{
 "metadata": {
  "language_info": {
   "codemirror_mode": {
    "name": "ipython",
    "version": 3
   },
   "file_extension": ".py",
   "mimetype": "text/x-python",
   "name": "python",
   "nbconvert_exporter": "python",
   "pygments_lexer": "ipython3",
   "version": "3.7.4-final"
  },
  "orig_nbformat": 2,
  "kernelspec": {
   "name": "python3",
   "display_name": "Python 3"
  }
 },
 "nbformat": 4,
 "nbformat_minor": 2,
 "cells": [
  {
   "cell_type": "code",
   "execution_count": 1,
   "metadata": {},
   "outputs": [],
   "source": [
    "import yfinance as yf \n",
    "import streamlit as st "
   ]
  },
  {
   "cell_type": "code",
   "execution_count": 2,
   "metadata": {},
   "outputs": [],
   "source": [
    "st.write(\"\"\" \n",
    "# Simple Stock Price App\n",
    "Shown are the stock closing price and volume of Google\n",
    "Based on tutorial by Chanin Nantasenamat on Towards Data Science https://towardsdatascience.com/how-to-build-a-data-science-web-app-in-python-61d1bed65020\n",
    "\"\"\")"
   ]
  },
  {
   "cell_type": "markdown",
   "metadata": {},
   "source": [
    "# Define the ticker symbol and retrieve he opening and closing price"
   ]
  },
  {
   "cell_type": "code",
   "execution_count": 3,
   "metadata": {},
   "outputs": [],
   "source": [
    "tickerSymbol = 'GOOGL'"
   ]
  },
  {
   "cell_type": "code",
   "execution_count": 4,
   "metadata": {
    "tags": []
   },
   "outputs": [
    {
     "output_type": "stream",
     "name": "stderr",
     "text": "Note: NumExpr detected 12 cores but \"NUMEXPR_MAX_THREADS\" not set, so enforcing safe limit of 8.\nNumExpr defaulting to 8 threads.\n"
    },
    {
     "output_type": "execute_result",
     "data": {
      "text/plain": "<streamlit.DeltaGenerator.DeltaGenerator at 0x189622b3988>"
     },
     "metadata": {},
     "execution_count": 4
    }
   ],
   "source": [
    "tickerData = yf.Ticker(tickerSymbol)\n",
    "tickerDf = tickerData.history(period = '1d', start = '2010-05-31', end = '2020-05-31')\n",
    "st.line_chart(tickerDf.Close)\n",
    "st.line_chart(tickerDf.Volume)"
   ]
  },
  {
   "cell_type": "code",
   "execution_count": null,
   "metadata": {},
   "outputs": [],
   "source": []
  }
 ]
}